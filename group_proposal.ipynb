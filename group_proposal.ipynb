{
 "cells": [
  {
   "cell_type": "markdown",
   "id": "c0d2ba3b-e198-4a0a-bd70-08530477c13a",
   "metadata": {},
   "source": [
    "- Group Project Proposal (Group 22)"
   ]
  },
  {
   "cell_type": "markdown",
   "id": "40795db0-1860-4195-a695-7729d5076002",
   "metadata": {},
   "source": [
    "- Group member: Elliott Au, Eric Lew, Zeren Lai"
   ]
  },
  {
   "cell_type": "markdown",
   "id": "359c6cc1-2c21-4225-95c4-9e71cafba0ba",
   "metadata": {},
   "source": [
    "- ***Title***\n",
    "    -  Observation of students’ performance on online learning platforms - Relationship between study habits for the goal object materials of users and exam performance of the users. \n"
   ]
  },
  {
   "cell_type": "markdown",
   "id": "cd7ef3bb-fb53-42c3-a4a1-49118e0b8f52",
   "metadata": {},
   "source": [
    "- ***Introduction***\n",
    "\n",
    "\n",
    "     -   The dataset is about the study habits of students with the new online learning platform and their exam performance. The dataset contains six variables, which are STG, SCG, STR, LPR, PEG, UNS. <br>\n",
    "\n",
    "          STG stands for the degree of study time for goal object materials<br>\n",
    "          SCG stands for the degree of repetition number of user for goal object materials <br>\n",
    "          STR stands for the degree of study time of user for related objects with goal object <br>\n",
    "          LPR stands for the exam performance of user for related objects with goal object<br>\n",
    "          PEG stands for the exam performance of user for goal objects <br>\n",
    "          UNS stands for the knowledge level of user <br>\n",
    "\n",
    "          We have 3 research questions: <br>\n",
    "          Whether studying related object materials helps students learn better about goal objects?<br>\n",
    "          Whether it is true that students will get better exam results if they spend more time studying?<br>\n",
    "          Whether it is true that repetition can help students improve their exam results? <br>\n",
    "\n",
    "          We would use 5 columns of the dataset, which are STG, SCG, STR, LPR and PEG. <br>\n"
   ]
  },
  {
   "cell_type": "markdown",
   "id": "6bebbd57-450e-41b0-b635-bdfbd6639f42",
   "metadata": {},
   "source": [
    "- ***Methods***\n",
    "\n",
    "   -     We would use boxplot to make comparisons between LPR (the exam performance of users who study related object materials and the goal object materials) and PEG (the exam performance of users who only study the goal object materials).\n",
    "\n",
    "   -     We would use scatterplot to show the relationship between SCG (the degree of the repetition number of user for the goal object materials) and PEG (the exam performance of user for goal objects). \n",
    "\n",
    "   -     We would examine the relationship between study time and exam performance. We would generate 2 scatterplots to show the relationship between STG (the degree of study time for goal object materials) and PEG (the exam performance of user for goal objects), and the relationship between STR (the degree of study time of user for related objects with goal object) and LPR (the exam performance of user for related objects with goal object)\n",
    "\n",
    "   -     We would use a scatterplot to show the relationship between SCG (the degree of repetition number of user for goal object materials) and PEG (the exam performance of user for goal objects). \n"
   ]
  },
  {
   "cell_type": "markdown",
   "id": "a4ede1fe-f56f-4c76-8388-ce91db8f4476",
   "metadata": {},
   "source": [
    "-  ***Expected Outcomes and Significance***\n",
    "\n",
    "      -   We believe that studying related objects is beneficial to students as this can strengthen their understanding of students about the goal object as there is a connection between related objects and goal objects. In addition, we also believe that there is a positive relationship between the number of repetition study of users with the goal object materials and their exam performance. Thus, we have 3 expectations: students who study related object materials and goal object materials will perform better than those who only study goal object materials. The higher the degree of study time, the better the exam performance of students. The higher the number of repetition study with the materials, the better the exam performance of students. \n",
    "\n",
    "      - The findings can contribute to the research area of education. In the future, researchers can further improve the quality of education and student learning experience by designing better study habits for students based on the conclusions of the findings. \n",
    "\n",
    "      - Our findings lead to further research questions like if students have a better learning experience by studying/ majoring in 2 related/ similar areas (e.g. Chemistry and Physics or English Literature and History) at the same time.  \n"
   ]
  },
  {
   "cell_type": "code",
   "execution_count": null,
   "id": "0ae0b514-992d-495f-8207-df9dcf55287d",
   "metadata": {},
   "outputs": [],
   "source": []
  }
 ],
 "metadata": {
  "kernelspec": {
   "display_name": "R",
   "language": "R",
   "name": "ir"
  },
  "language_info": {
   "codemirror_mode": "r",
   "file_extension": ".r",
   "mimetype": "text/x-r-source",
   "name": "R",
   "pygments_lexer": "r",
   "version": "4.1.3"
  }
 },
 "nbformat": 4,
 "nbformat_minor": 5
}
